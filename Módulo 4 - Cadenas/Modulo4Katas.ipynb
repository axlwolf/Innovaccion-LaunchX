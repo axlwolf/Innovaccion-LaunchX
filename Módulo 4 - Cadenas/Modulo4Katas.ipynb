{
 "cells": [
  {
   "cell_type": "markdown",
   "metadata": {},
   "source": [
    "# Ejercicio 1: Transformar cadenas\n",
    "Hay varias operaciones que puedes realizar en las cadenas cuando las manipulamos. En este ejercicio, usarás métodos de cadena para modificar el texto con hechos sobre la Luna y luego extraerás información para crear un breve resumen.\n",
    "\n",
    "> Nota Dedica unos minutos a tratar de encontrar una solución. Luego desplázate hacia abajo hasta la parte inferior para ver si has logrado compilar el programa de acuerdo con las especificaciones.\n",
    "\n",
    "El texto con el que trabajarás es el siguiente:"
   ]
  },
  {
   "cell_type": "code",
   "execution_count": null,
   "metadata": {},
   "outputs": [],
   "source": [
    "text = \"\"\"Interesting facts about the Moon. The Moon is Earth's only satellite. There are several interesting facts about the Moon and how it affects life here on Earth. \\n\",\n",
    "\"On average, the Moon moves 4cm away from the Earth every year. This yearly drift is not significant enough to cause immediate effects on Earth. The highest daylight temperature of the Moon is 127 C.\"\"\""
   ]
  },
  {
   "cell_type": "markdown",
   "metadata": {},
   "source": [
    "Primero, divide el texto en cada oración para trabajar con su contenido:"
   ]
  },
  {
   "cell_type": "code",
   "execution_count": null,
   "metadata": {},
   "outputs": [],
   "source": [
    "text = \"\"\"Interesting facts about the Moon. The Moon is Earth's only satellite. There are several interesting facts about the Moon and how it affects life here on Earth. \\n\",\n",
    "\"On average, the Moon moves 4cm away from the Earth every year. This yearly drift is not significant enough to cause immediate effects on Earth. The highest daylight temperature of the Moon is 127 C.\"\"\"\n",
    "\n",
    "# Añade el código necesario\n",
    "splitted_text = text.split('. ')\n",
    "# print(splitted_text)\n",
    "# Define las palabras pista: average, temperature y distance suenan bien\n",
    "# Palabras clave\n",
    "key_words = [\"average\", \"temperature\", \"distance\"]\n",
    "# Cre un bucle para imprimir solo datos sobre la Luna que estén relacionados con las palabras clave definidas anteriormente:\n",
    "# Ciclo for para recorrer la cadena\n",
    "for paragraph in splitted_text:\n",
    "    for key_word in key_words:\n",
    "        if key_word in paragraph:\n",
    "            print(paragraph)\n",
    "            break\n",
    "# Finalmente, actualiza el bucle(ciclo) para cambiar C a Celsius:\n",
    "# Ciclo para cambiar C a Celsius\n",
    "for paragraph in splitted_text:\n",
    "    for key_word in key_words:\n",
    "        if key_word in paragraph:\n",
    "            replaced_paragraph = paragraph.replace(' C', ' Celsius')\n",
    "            print(replaced_paragraph)\n",
    "            break"
   ]
  },
  {
   "cell_type": "markdown",
   "metadata": {},
   "source": [
    "# Ejercicio 2: Formateando Cadenas\n",
    "Saber cómo dar formato a las cadenas es esencial cuando se presenta información de un programa. Hay algunas maneras diferentes de lograr esto en Python. En este ejercicio, se utilizan variables que contienen datos clave sobre la gravedad en varias lunas y luego se utilizan para dar formato e imprimir la información.\n",
    "\n",
    "El formato tiene que acomodar información sobre otras lunas, por lo que debe ser genérico.\n",
    "\n",
    "En lugar de reemplazar las variables en una cadena larga como parte de un párrafo, utiliza la información para presentarla en un formato tabular. El resultado debería verse así:\n",
    "\n",
    "Gravity Facts about Ganymede.\n",
    "----------------------------------\n",
    "Planet Name: Mars\n",
    "\n",
    "Gravity on Ganymede: 1.4300000000000002 m/s2"
   ]
  },
  {
   "cell_type": "code",
   "execution_count": 51,
   "metadata": {},
   "outputs": [
    {
     "name": "stdout",
     "output_type": "stream",
     "text": [
      "Moon Gravity Data\n",
      "-------------------------------------------------------------------------------- \n",
      "Planet's name: Earth \n",
      "Gravity on the Moon: 1.6199999999999999 m/s2 \n",
      "\n",
      "\n",
      "Gravity info about : Ganymede\n",
      "*********************************************************************************\n",
      "Planet's name: Mars\n",
      "Gravity on Ganymede: 0.00143 m/s2\n",
      "\n"
     ]
    }
   ],
   "source": [
    "# Datos con los que vas a trabajar\n",
    "name = \"Moon\"\n",
    "gravity = 0.00162 # in kms\n",
    "planet = \"Earth\"\n",
    "\n",
    "# Primero, crea un título para el texto. Debido a que este texto trata sobre la gravedad en la Tierra y la Luna, \n",
    "# úsalo para crear un título significativo. Utiliza las variables en lugar de escribir.\n",
    "# Creamos el título\n",
    "title = f\"{name} gravity data\"\n",
    "print(title.title());\n",
    "\n",
    "# Ahora crea una plantilla de cadena multilínea para contener el resto de la información. \n",
    "# En lugar de usar kilómetros, debes convertir la distancia a metros multiplicando por 1,000.\n",
    "\n",
    "# Creamos la plantilla\n",
    "facts = f\"\"\"{'-'*80} \n",
    "Planet's name: {planet} \n",
    "Gravity on the {name}: {gravity * 1000} m/s2 \n",
    "\"\"\"\n",
    "\n",
    "# Finalmente, usa ambas variables para unir el título y los hechos.\n",
    "# Unión de ambas cadenas\n",
    "template = f\"\"\"{title.title()} \n",
    "{facts} \n",
    "\"\"\" \n",
    "print(facts)\n",
    "\n",
    "#Ahora usa información de una luna diferente para ver si la plantilla todavía funciona.\n",
    "\n",
    "#Datos muestra:\n",
    "\n",
    "planet = 'Mars'\n",
    "gravity  = 0.00143\n",
    "name = 'Ganymede'\n",
    "\n",
    "# Comprobamos la plantilla\n",
    "#print(facts)\n",
    "\n",
    "# La salida no muestra información sobre Marte. Todavía muestra información sobre la Luna. \n",
    "# Esto sucede porque las cadenas f están ansiosas en su evaluación, por lo que las variables una vez asignadas no se pueden reasignar.\n",
    "# Para evitar este problema, vuelva a hacer la plantilla para utilizar .format():\n",
    "\n",
    "# Nueva plantilla\n",
    "new_template = \"\"\"\n",
    "Gravity info about : {name}\n",
    "*********************************************************************************\n",
    "Planet's name: {planet}\n",
    "Gravity on {name}: {gravity} m/s2\n",
    "\"\"\"\n",
    "print(new_template.format(name = name, planet = planet, gravity = gravity))\n"
   ]
  }
 ],
 "metadata": {
  "interpreter": {
   "hash": "a19f6baf61366b795655605ed3eb708fb373f56b5ce7b3ff1762ce9ca5c66b7e"
  },
  "kernelspec": {
   "display_name": "Python 3.8.10 64-bit (windows store)",
   "language": "python",
   "name": "python3"
  },
  "language_info": {
   "codemirror_mode": {
    "name": "ipython",
    "version": 3
   },
   "file_extension": ".py",
   "mimetype": "text/x-python",
   "name": "python",
   "nbconvert_exporter": "python",
   "pygments_lexer": "ipython3",
   "version": "3.8.10"
  },
  "orig_nbformat": 4
 },
 "nbformat": 4,
 "nbformat_minor": 2
}
